{
 "cells": [
  {
   "cell_type": "code",
   "execution_count": 1,
   "metadata": {},
   "outputs": [],
   "source": [
    "import numpy as np\n",
    "import pandas as pd\n",
    "import matplotlib.pyplot as plt\n",
    "%matplotlib inline\n",
    "\n",
    "#import all programs needed to run analyses"
   ]
  },
  {
   "cell_type": "code",
   "execution_count": 2,
   "metadata": {},
   "outputs": [],
   "source": [
    "df = pd.read_csv(\"/Users/theovisconti/Desktop/WaterNYC.csv\")\n",
    "#import first dataset"
   ]
  },
  {
   "cell_type": "code",
   "execution_count": 3,
   "metadata": {},
   "outputs": [],
   "source": [
    "dfwater = df[[\"Consumption\", \"Population\"]]"
   ]
  },
  {
   "cell_type": "code",
   "execution_count": 4,
   "metadata": {},
   "outputs": [],
   "source": [
    "dfwater_list = dfwater.values.tolist()"
   ]
  },
  {
   "cell_type": "code",
   "execution_count": 5,
   "metadata": {},
   "outputs": [
    {
     "name": "stdout",
     "output_type": "stream",
     "text": [
      "[[1512.0, 7102100.0], [1506.0, 7071639.0], [1309.0, 7089241.0], [1382.0, 7109105.0], [1424.0, 7181224.0], [1465.0, 7234514.0], [1326.0, 7274054.0], [1351.0, 7319246.0], [1447.0, 7342476.0], [1484.0, 7353719.0], [1402.0, 7344175.0], [1424.0, 7335650.0], [1469.0, 7374501.0], [1369.0, 7428944.0], [1368.5, 7506166.0], [1357.7, 7570458.0], [1325.7, 7633040.0], [1297.9, 7697812.0], [1205.5, 7773443.0], [1219.5, 7858259.0], [1237.2, 7947660.0], [1240.4, 8008278.0], [1184.0, 8024963.5], [1135.6, 8041649.0], [1093.7, 8058334.5], [1099.5, 8075020.0], [1138.0, 8091705.5], [1069.0, 8108391.0], [1114.0, 8125076.5], [1098.0, 8141762.0], [1007.5, 8158447.5], [1039.0, 8175133.0], [1021.0, 8272963.0], [1009.1, 8348032.0], [1006.1, 8398739.0], [996.0, 8437387.0], [1009.0, 8468181.0], [1002.0, 8475976.0], [990.2, 8438271.0], [1007.5, 8398748.0], [987.4, 8336817.0]]\n"
     ]
    }
   ],
   "source": [
    "print (dfwater_list)"
   ]
  },
  {
   "cell_type": "code",
   "execution_count": 6,
   "metadata": {},
   "outputs": [
    {
     "data": {
      "text/html": [
       "<table class=\"simpletable\">\n",
       "<caption>OLS Regression Results</caption>\n",
       "<tr>\n",
       "  <th>Dep. Variable:</th>       <td>Consumption</td>   <th>  R-squared:         </th> <td>   0.909</td>\n",
       "</tr>\n",
       "<tr>\n",
       "  <th>Model:</th>                   <td>OLS</td>       <th>  Adj. R-squared:    </th> <td>   0.907</td>\n",
       "</tr>\n",
       "<tr>\n",
       "  <th>Method:</th>             <td>Least Squares</td>  <th>  F-statistic:       </th> <td>   389.0</td>\n",
       "</tr>\n",
       "<tr>\n",
       "  <th>Date:</th>             <td>Wed, 23 Dec 2020</td> <th>  Prob (F-statistic):</th> <td>6.85e-22</td>\n",
       "</tr>\n",
       "<tr>\n",
       "  <th>Time:</th>                 <td>21:09:54</td>     <th>  Log-Likelihood:    </th> <td> -221.01</td>\n",
       "</tr>\n",
       "<tr>\n",
       "  <th>No. Observations:</th>      <td>    41</td>      <th>  AIC:               </th> <td>   446.0</td>\n",
       "</tr>\n",
       "<tr>\n",
       "  <th>Df Residuals:</th>          <td>    39</td>      <th>  BIC:               </th> <td>   449.4</td>\n",
       "</tr>\n",
       "<tr>\n",
       "  <th>Df Model:</th>              <td>     1</td>      <th>                     </th>     <td> </td>   \n",
       "</tr>\n",
       "<tr>\n",
       "  <th>Covariance Type:</th>      <td>nonrobust</td>    <th>                     </th>     <td> </td>   \n",
       "</tr>\n",
       "</table>\n",
       "<table class=\"simpletable\">\n",
       "<tr>\n",
       "    <td></td>       <th>coef</th>     <th>std err</th>      <th>t</th>      <th>P>|t|</th>  <th>[0.025</th>    <th>0.975]</th>  \n",
       "</tr>\n",
       "<tr>\n",
       "  <th>const</th> <td> 4051.1501</td> <td>  143.658</td> <td>   28.200</td> <td> 0.000</td> <td> 3760.575</td> <td> 4341.726</td>\n",
       "</tr>\n",
       "<tr>\n",
       "  <th>x1</th>    <td>   -0.0004</td> <td> 1.84e-05</td> <td>  -19.724</td> <td> 0.000</td> <td>   -0.000</td> <td>   -0.000</td>\n",
       "</tr>\n",
       "</table>\n",
       "<table class=\"simpletable\">\n",
       "<tr>\n",
       "  <th>Omnibus:</th>       <td> 8.156</td> <th>  Durbin-Watson:     </th> <td>   1.178</td>\n",
       "</tr>\n",
       "<tr>\n",
       "  <th>Prob(Omnibus):</th> <td> 0.017</td> <th>  Jarque-Bera (JB):  </th> <td>   7.292</td>\n",
       "</tr>\n",
       "<tr>\n",
       "  <th>Skew:</th>          <td>-0.786</td> <th>  Prob(JB):          </th> <td>  0.0261</td>\n",
       "</tr>\n",
       "<tr>\n",
       "  <th>Kurtosis:</th>      <td> 4.341</td> <th>  Cond. No.          </th> <td>1.32e+08</td>\n",
       "</tr>\n",
       "</table><br/><br/>Warnings:<br/>[1] Standard Errors assume that the covariance matrix of the errors is correctly specified.<br/>[2] The condition number is large, 1.32e+08. This might indicate that there are<br/>strong multicollinearity or other numerical problems."
      ],
      "text/plain": [
       "<class 'statsmodels.iolib.summary.Summary'>\n",
       "\"\"\"\n",
       "                            OLS Regression Results                            \n",
       "==============================================================================\n",
       "Dep. Variable:            Consumption   R-squared:                       0.909\n",
       "Model:                            OLS   Adj. R-squared:                  0.907\n",
       "Method:                 Least Squares   F-statistic:                     389.0\n",
       "Date:                Wed, 23 Dec 2020   Prob (F-statistic):           6.85e-22\n",
       "Time:                        21:09:54   Log-Likelihood:                -221.01\n",
       "No. Observations:                  41   AIC:                             446.0\n",
       "Df Residuals:                      39   BIC:                             449.4\n",
       "Df Model:                           1                                         \n",
       "Covariance Type:            nonrobust                                         \n",
       "==============================================================================\n",
       "                 coef    std err          t      P>|t|      [0.025      0.975]\n",
       "------------------------------------------------------------------------------\n",
       "const       4051.1501    143.658     28.200      0.000    3760.575    4341.726\n",
       "x1            -0.0004   1.84e-05    -19.724      0.000      -0.000      -0.000\n",
       "==============================================================================\n",
       "Omnibus:                        8.156   Durbin-Watson:                   1.178\n",
       "Prob(Omnibus):                  0.017   Jarque-Bera (JB):                7.292\n",
       "Skew:                          -0.786   Prob(JB):                       0.0261\n",
       "Kurtosis:                       4.341   Cond. No.                     1.32e+08\n",
       "==============================================================================\n",
       "\n",
       "Warnings:\n",
       "[1] Standard Errors assume that the covariance matrix of the errors is correctly specified.\n",
       "[2] The condition number is large, 1.32e+08. This might indicate that there are\n",
       "strong multicollinearity or other numerical problems.\n",
       "\"\"\""
      ]
     },
     "metadata": {},
     "output_type": "display_data"
    }
   ],
   "source": [
    "from statsmodels.regression.linear_model import OLS\n",
    "import statsmodels.api as sm\n",
    "\n",
    "x_vals = df['Population'].values\n",
    "y_vals = df['Consumption']\n",
    "\n",
    "reg_model = OLS(y_vals, sm.add_constant(x_vals)).fit()\n",
    "display(reg_model.summary())"
   ]
  },
  {
   "cell_type": "code",
   "execution_count": 7,
   "metadata": {},
   "outputs": [],
   "source": [
    "b0 = reg_model.params[0]\n",
    "b1 = reg_model.params[1]\n",
    "x_plot = np.linspace(np.min(df[\"Population\"]),\n",
    "                     np.max(df[\"Population\"]), 100)"
   ]
  },
  {
   "cell_type": "code",
   "execution_count": 8,
   "metadata": {},
   "outputs": [
    {
     "name": "stdout",
     "output_type": "stream",
     "text": [
      "Correlation coefficient: -0.9533535166115041\n",
      "p-value: 6.8471455326375315e-22\n"
     ]
    }
   ],
   "source": [
    "from scipy import stats\n",
    "corr = stats.pearsonr(df[\"Population\"], df['Consumption'])\n",
    "print('Correlation coefficient:', corr[0])\n",
    "print('p-value:', corr[1])"
   ]
  },
  {
   "cell_type": "code",
   "execution_count": 9,
   "metadata": {},
   "outputs": [
    {
     "data": {
      "text/html": [
       "<table class=\"simpletable\">\n",
       "<caption>OLS Regression Results</caption>\n",
       "<tr>\n",
       "  <th>Dep. Variable:</th>       <td>Consumption</td>   <th>  R-squared:         </th> <td>   0.909</td>\n",
       "</tr>\n",
       "<tr>\n",
       "  <th>Model:</th>                   <td>OLS</td>       <th>  Adj. R-squared:    </th> <td>   0.907</td>\n",
       "</tr>\n",
       "<tr>\n",
       "  <th>Method:</th>             <td>Least Squares</td>  <th>  F-statistic:       </th> <td>   389.0</td>\n",
       "</tr>\n",
       "<tr>\n",
       "  <th>Date:</th>             <td>Wed, 23 Dec 2020</td> <th>  Prob (F-statistic):</th> <td>6.85e-22</td>\n",
       "</tr>\n",
       "<tr>\n",
       "  <th>Time:</th>                 <td>21:09:54</td>     <th>  Log-Likelihood:    </th> <td> -221.01</td>\n",
       "</tr>\n",
       "<tr>\n",
       "  <th>No. Observations:</th>      <td>    41</td>      <th>  AIC:               </th> <td>   446.0</td>\n",
       "</tr>\n",
       "<tr>\n",
       "  <th>Df Residuals:</th>          <td>    39</td>      <th>  BIC:               </th> <td>   449.4</td>\n",
       "</tr>\n",
       "<tr>\n",
       "  <th>Df Model:</th>              <td>     1</td>      <th>                     </th>     <td> </td>   \n",
       "</tr>\n",
       "<tr>\n",
       "  <th>Covariance Type:</th>      <td>nonrobust</td>    <th>                     </th>     <td> </td>   \n",
       "</tr>\n",
       "</table>\n",
       "<table class=\"simpletable\">\n",
       "<tr>\n",
       "    <td></td>       <th>coef</th>     <th>std err</th>      <th>t</th>      <th>P>|t|</th>  <th>[0.025</th>    <th>0.975]</th>  \n",
       "</tr>\n",
       "<tr>\n",
       "  <th>const</th> <td> 4051.1501</td> <td>  143.658</td> <td>   28.200</td> <td> 0.000</td> <td> 3760.575</td> <td> 4341.726</td>\n",
       "</tr>\n",
       "<tr>\n",
       "  <th>x1</th>    <td>   -0.0004</td> <td> 1.84e-05</td> <td>  -19.724</td> <td> 0.000</td> <td>   -0.000</td> <td>   -0.000</td>\n",
       "</tr>\n",
       "</table>\n",
       "<table class=\"simpletable\">\n",
       "<tr>\n",
       "  <th>Omnibus:</th>       <td> 8.156</td> <th>  Durbin-Watson:     </th> <td>   1.178</td>\n",
       "</tr>\n",
       "<tr>\n",
       "  <th>Prob(Omnibus):</th> <td> 0.017</td> <th>  Jarque-Bera (JB):  </th> <td>   7.292</td>\n",
       "</tr>\n",
       "<tr>\n",
       "  <th>Skew:</th>          <td>-0.786</td> <th>  Prob(JB):          </th> <td>  0.0261</td>\n",
       "</tr>\n",
       "<tr>\n",
       "  <th>Kurtosis:</th>      <td> 4.341</td> <th>  Cond. No.          </th> <td>1.32e+08</td>\n",
       "</tr>\n",
       "</table><br/><br/>Warnings:<br/>[1] Standard Errors assume that the covariance matrix of the errors is correctly specified.<br/>[2] The condition number is large, 1.32e+08. This might indicate that there are<br/>strong multicollinearity or other numerical problems."
      ],
      "text/plain": [
       "<class 'statsmodels.iolib.summary.Summary'>\n",
       "\"\"\"\n",
       "                            OLS Regression Results                            \n",
       "==============================================================================\n",
       "Dep. Variable:            Consumption   R-squared:                       0.909\n",
       "Model:                            OLS   Adj. R-squared:                  0.907\n",
       "Method:                 Least Squares   F-statistic:                     389.0\n",
       "Date:                Wed, 23 Dec 2020   Prob (F-statistic):           6.85e-22\n",
       "Time:                        21:09:54   Log-Likelihood:                -221.01\n",
       "No. Observations:                  41   AIC:                             446.0\n",
       "Df Residuals:                      39   BIC:                             449.4\n",
       "Df Model:                           1                                         \n",
       "Covariance Type:            nonrobust                                         \n",
       "==============================================================================\n",
       "                 coef    std err          t      P>|t|      [0.025      0.975]\n",
       "------------------------------------------------------------------------------\n",
       "const       4051.1501    143.658     28.200      0.000    3760.575    4341.726\n",
       "x1            -0.0004   1.84e-05    -19.724      0.000      -0.000      -0.000\n",
       "==============================================================================\n",
       "Omnibus:                        8.156   Durbin-Watson:                   1.178\n",
       "Prob(Omnibus):                  0.017   Jarque-Bera (JB):                7.292\n",
       "Skew:                          -0.786   Prob(JB):                       0.0261\n",
       "Kurtosis:                       4.341   Cond. No.                     1.32e+08\n",
       "==============================================================================\n",
       "\n",
       "Warnings:\n",
       "[1] Standard Errors assume that the covariance matrix of the errors is correctly specified.\n",
       "[2] The condition number is large, 1.32e+08. This might indicate that there are\n",
       "strong multicollinearity or other numerical problems.\n",
       "\"\"\""
      ]
     },
     "metadata": {},
     "output_type": "display_data"
    }
   ],
   "source": [
    "dfpc = df[[\"Consumption\", \"PC Consumption\"]]\n",
    "\n",
    "x_valsx = df['Consumption'].values\n",
    "y_valsx = df['PC Consumption']\n",
    "\n",
    "reg_model = OLS(y_vals, sm.add_constant(x_vals)).fit()\n",
    "display(reg_model.summary())"
   ]
  },
  {
   "cell_type": "code",
   "execution_count": 10,
   "metadata": {},
   "outputs": [],
   "source": [
    "dfpc = df[[\"PC Consumption\", \"Consumption\"]]"
   ]
  },
  {
   "cell_type": "code",
   "execution_count": 11,
   "metadata": {},
   "outputs": [],
   "source": [
    "dfpc_list = dfpc.values.tolist()"
   ]
  },
  {
   "cell_type": "code",
   "execution_count": 12,
   "metadata": {},
   "outputs": [],
   "source": [
    "b0 = reg_model.params[0]\n",
    "b1 = reg_model.params[1]\n",
    "x_plot = np.linspace(np.min(df[\"Consumption\"]),\n",
    "                     np.max(df[\"Consumption\"]), 100)"
   ]
  },
  {
   "cell_type": "code",
   "execution_count": 13,
   "metadata": {},
   "outputs": [
    {
     "name": "stdout",
     "output_type": "stream",
     "text": [
      "Correlation coefficient: 0.9947971559837174\n",
      "p-value: 2.6332962207683175e-40\n"
     ]
    }
   ],
   "source": [
    "corr = stats.pearsonr(dfpc['Consumption'], dfpc['PC Consumption'])\n",
    "print('Correlation coefficient:', corr[0])\n",
    "print('p-value:', corr[1])"
   ]
  },
  {
   "cell_type": "code",
   "execution_count": null,
   "metadata": {},
   "outputs": [],
   "source": []
  },
  {
   "cell_type": "code",
   "execution_count": null,
   "metadata": {},
   "outputs": [],
   "source": []
  },
  {
   "cell_type": "code",
   "execution_count": 14,
   "metadata": {},
   "outputs": [
    {
     "name": "stderr",
     "output_type": "stream",
     "text": [
      "/Users/theovisconti/opt/anaconda3/lib/python3.8/site-packages/IPython/core/interactiveshell.py:3071: DtypeWarning: Columns (0,1,2,5) have mixed types.Specify dtype option on import or set low_memory=False.\n",
      "  has_raised = await self.run_ast_nodes(code_ast.body, cell_name,\n"
     ]
    },
    {
     "data": {
      "text/html": [
       "<div>\n",
       "<style scoped>\n",
       "    .dataframe tbody tr th:only-of-type {\n",
       "        vertical-align: middle;\n",
       "    }\n",
       "\n",
       "    .dataframe tbody tr th {\n",
       "        vertical-align: top;\n",
       "    }\n",
       "\n",
       "    .dataframe thead th {\n",
       "        text-align: right;\n",
       "    }\n",
       "</style>\n",
       "<table border=\"1\" class=\"dataframe\">\n",
       "  <thead>\n",
       "    <tr style=\"text-align: right;\">\n",
       "      <th></th>\n",
       "      <th>Type of Organization</th>\n",
       "      <th>Number of Outlets, Result &gt; 15 ppb</th>\n",
       "    </tr>\n",
       "  </thead>\n",
       "  <tbody>\n",
       "    <tr>\n",
       "      <th>0</th>\n",
       "      <td>Public School</td>\n",
       "      <td>5.0</td>\n",
       "    </tr>\n",
       "    <tr>\n",
       "      <th>1</th>\n",
       "      <td>Public School</td>\n",
       "      <td>0.0</td>\n",
       "    </tr>\n",
       "    <tr>\n",
       "      <th>2</th>\n",
       "      <td>Public School</td>\n",
       "      <td>1.0</td>\n",
       "    </tr>\n",
       "    <tr>\n",
       "      <th>3</th>\n",
       "      <td>Public School</td>\n",
       "      <td>1.0</td>\n",
       "    </tr>\n",
       "    <tr>\n",
       "      <th>4</th>\n",
       "      <td>Public School</td>\n",
       "      <td>34.0</td>\n",
       "    </tr>\n",
       "    <tr>\n",
       "      <th>...</th>\n",
       "      <td>...</td>\n",
       "      <td>...</td>\n",
       "    </tr>\n",
       "    <tr>\n",
       "      <th>2782</th>\n",
       "      <td>BOCES School</td>\n",
       "      <td>0.0</td>\n",
       "    </tr>\n",
       "    <tr>\n",
       "      <th>2783</th>\n",
       "      <td>Public School</td>\n",
       "      <td>37.0</td>\n",
       "    </tr>\n",
       "    <tr>\n",
       "      <th>2784</th>\n",
       "      <td>Public School</td>\n",
       "      <td>0.0</td>\n",
       "    </tr>\n",
       "    <tr>\n",
       "      <th>2785</th>\n",
       "      <td>Public School</td>\n",
       "      <td>3.0</td>\n",
       "    </tr>\n",
       "    <tr>\n",
       "      <th>2786</th>\n",
       "      <td>Public School</td>\n",
       "      <td>2.0</td>\n",
       "    </tr>\n",
       "  </tbody>\n",
       "</table>\n",
       "<p>2783 rows × 2 columns</p>\n",
       "</div>"
      ],
      "text/plain": [
       "     Type of Organization  Number of Outlets, Result > 15 ppb\n",
       "0           Public School                                 5.0\n",
       "1           Public School                                 0.0\n",
       "2           Public School                                 1.0\n",
       "3           Public School                                 1.0\n",
       "4           Public School                                34.0\n",
       "...                   ...                                 ...\n",
       "2782         BOCES School                                 0.0\n",
       "2783        Public School                                37.0\n",
       "2784        Public School                                 0.0\n",
       "2785        Public School                                 3.0\n",
       "2786        Public School                                 2.0\n",
       "\n",
       "[2783 rows x 2 columns]"
      ]
     },
     "execution_count": 14,
     "metadata": {},
     "output_type": "execute_result"
    }
   ],
   "source": [
    "df = pd.read_csv(\"/Users/theovisconti/Desktop/LeadNYC.csv\")\n",
    "data = df[['Type of Organization', 'Number of Outlets, Result > 15 ppb']]\n",
    "data = data.dropna()\n",
    "data"
   ]
  },
  {
   "cell_type": "code",
   "execution_count": 15,
   "metadata": {},
   "outputs": [],
   "source": [
    "def function(row):\n",
    "    if row['Number of Outlets, Result > 15 ppb'] >= 1:\n",
    "        return 'Lead Presence'\n",
    "    elif row['Number of Outlets, Result > 15 ppb'] == 0:\n",
    "        return 'No Lead Presence'\n",
    "    else:\n",
    "        return 'NaN'\n",
    "#sort schools into categories"
   ]
  },
  {
   "cell_type": "code",
   "execution_count": 16,
   "metadata": {},
   "outputs": [],
   "source": [
    "data['Number of Outlets, Result > 15 ppb'] = data.apply(function, axis=1)\n",
    "#set up leaded schools"
   ]
  },
  {
   "cell_type": "code",
   "execution_count": 17,
   "metadata": {},
   "outputs": [],
   "source": [
    "table = pd.crosstab(index=data[\"Number of Outlets, Result > 15 ppb\"], columns=data[\"Type of Organization\"]) \n",
    "#set up table"
   ]
  },
  {
   "cell_type": "code",
   "execution_count": 18,
   "metadata": {},
   "outputs": [
    {
     "data": {
      "text/plain": [
       "Index(['BOCES School', 'Public School'], dtype='object', name='Type of Organization')"
      ]
     },
     "execution_count": 18,
     "metadata": {},
     "output_type": "execute_result"
    }
   ],
   "source": [
    "table.columns\n",
    "#find column"
   ]
  },
  {
   "cell_type": "code",
   "execution_count": 19,
   "metadata": {},
   "outputs": [
    {
     "name": "stdout",
     "output_type": "stream",
     "text": [
      "2783\n"
     ]
    }
   ],
   "source": [
    "import numpy as np\n",
    "total = 0\n",
    "for schooltype in table.columns:\n",
    "    total += np.sum(table[schooltype])\n",
    "print(total)\n",
    "#find amount of schools"
   ]
  },
  {
   "cell_type": "code",
   "execution_count": 20,
   "metadata": {},
   "outputs": [
    {
     "name": "stdout",
     "output_type": "stream",
     "text": [
      "chi2: 31.303776622975704\n",
      "p: 2.2064999671439582e-08\n",
      "dof: 1\n",
      "expected: [[ 116.6798419 1467.3201581]\n",
      " [  88.3201581 1110.6798419]]\n"
     ]
    }
   ],
   "source": [
    "chi2, p, dof, expected = stats.chi2_contingency(table)\n",
    "\n",
    "print(\"chi2:\", chi2)\n",
    "print(\"p:\", p)\n",
    "print(\"dof:\", dof)\n",
    "print(\"expected:\", expected)\n",
    "#calc X^2"
   ]
  },
  {
   "cell_type": "code",
   "execution_count": 21,
   "metadata": {},
   "outputs": [],
   "source": [
    "def CI_prop_diff(s1, s2, n1, n2):\n",
    "    p1 = s1 / n1\n",
    "    p2 = s2 / n2\n",
    "    se2p1 = p1 * (1 - p1) / n1\n",
    "    se2p2 = p2 * (1 - p2) / n2\n",
    "    se2 = se2p1 + se2p2\n",
    "    se = np.sqrt(se2)\n",
    "    low = (p1 - p2) - 1.96 * se\n",
    "    up = (p1 - p2) + 1.96 * se\n",
    "    print(\"Proportion difference is:\", p1 - p2)\n",
    "    print(\"95% CI is: ({}, {})\".format(low, up))"
   ]
  },
  {
   "cell_type": "code",
   "execution_count": 22,
   "metadata": {},
   "outputs": [
    {
     "name": "stdout",
     "output_type": "stream",
     "text": [
      "Proportion difference is: -0.012433328807773647\n",
      "95% CI is: (-0.07426063350121559, 0.049393975885668295)\n"
     ]
    }
   ],
   "source": [
    "CI_prop_diff(s1=78, s2=1511, n1=235, n2=4388)\n",
    "#calc CI for proportions"
   ]
  },
  {
   "cell_type": "code",
   "execution_count": 23,
   "metadata": {},
   "outputs": [],
   "source": [
    "QualMan = pd.read_csv(\"/Users/theovisconti/Desktop/QualMan.csv\")\n",
    "QualB = pd.read_csv(\"/Users/theovisconti/Desktop/QualB.csv\")\n",
    "#upload files"
   ]
  },
  {
   "cell_type": "code",
   "execution_count": 24,
   "metadata": {},
   "outputs": [],
   "source": [
    "dfqm = QualMan[[\"Location\", \"Residual Free Chlorine (mg/L)\"]]\n",
    "dfqb = QualB[[\"Location\", \"Residual Free Chlorine (mg/L)\"]]\n",
    "#set up df's"
   ]
  },
  {
   "cell_type": "code",
   "execution_count": 25,
   "metadata": {},
   "outputs": [],
   "source": []
  },
  {
   "cell_type": "code",
   "execution_count": null,
   "metadata": {},
   "outputs": [],
   "source": []
  },
  {
   "cell_type": "code",
   "execution_count": 26,
   "metadata": {},
   "outputs": [
    {
     "name": "stdout",
     "output_type": "stream",
     "text": [
      "The average difference is: -0.04751076658053399\n",
      "The 95% CI is: (-0.11448903103496677, 0.019467497873898787)\n"
     ]
    }
   ],
   "source": [
    "def CI_mean_diff(list1, list2):\n",
    "    s1 = np.var(list1)\n",
    "    s2 = np.var(list2)\n",
    "    n1 = len(list1)\n",
    "    n2 = len(list2)\n",
    "    se2 = s1/n1 + s2/n2\n",
    "    se = np.sqrt(se2)\n",
    "\n",
    "    diff = np.mean(list1) - np.mean(list2)\n",
    "    low = diff - 1.96 * se\n",
    "    up = diff + 1.96 * se\n",
    "    print(\"The average difference is:\", diff)\n",
    "    print(\"The 95% CI is: ({}, {})\".format(low, up))\n",
    "CI_mean_diff(QualMan['Residual Free Chlorine (mg/L)'],QualB['Residual Free Chlorine (mg/L)'])\n",
    "#calc CI of diff"
   ]
  },
  {
   "cell_type": "code",
   "execution_count": 27,
   "metadata": {},
   "outputs": [
    {
     "name": "stdout",
     "output_type": "stream",
     "text": [
      "Test statistic: -1.3668549910869219\n",
      "p-value: 0.17861072816492726\n"
     ]
    }
   ],
   "source": [
    "from scipy import stats\n",
    "\n",
    "t_val, p_val = stats.ttest_ind(QualMan['Residual Free Chlorine (mg/L)'],\n",
    "                               QualB['Residual Free Chlorine (mg/L)'], equal_var=False)\n",
    "\n",
    "print(\"Test statistic:\", t_val)\n",
    "print(\"p-value:\", p_val)\n",
    "#calc t and p stat"
   ]
  },
  {
   "cell_type": "code",
   "execution_count": 28,
   "metadata": {},
   "outputs": [],
   "source": [
    "ashw = pd.read_csv(\"/Users/theovisconti/Desktop/AshVolW.csv\")\n",
    "ashs = pd.read_csv(\"/Users/theovisconti/Desktop/AshVolS.csv\")\n",
    "#upload files"
   ]
  },
  {
   "cell_type": "code",
   "execution_count": 29,
   "metadata": {},
   "outputs": [],
   "source": [
    "dfashw = ashw[[\"AshVolW\"]]\n",
    "dfashs = ashs[[\"AshVolS\"]]\n",
    "#set up df's"
   ]
  },
  {
   "cell_type": "code",
   "execution_count": null,
   "metadata": {},
   "outputs": [],
   "source": []
  },
  {
   "cell_type": "code",
   "execution_count": 30,
   "metadata": {},
   "outputs": [
    {
     "name": "stdout",
     "output_type": "stream",
     "text": [
      "The average difference is: 1.8120717066839944\n",
      "The 95% CI is: (-0.07884323283254346, 3.7029866462005323)\n"
     ]
    }
   ],
   "source": [
    "def CI_mean_diff(list1, list2):\n",
    "    s1 = np.var(list1)\n",
    "    s2 = np.var(list2)\n",
    "    n1 = len(list1)\n",
    "    n2 = len(list2)\n",
    "    se2 = s1/n1 + s2/n2\n",
    "    se = np.sqrt(se2)\n",
    "\n",
    "    diff = np.mean(list1) - np.mean(list2)\n",
    "    low = diff - 1.96 * se\n",
    "    up = diff + 1.96 * se\n",
    "    print(\"The average difference is:\", diff)\n",
    "    print(\"The 95% CI is: ({}, {})\".format(low, up))\n",
    "CI_mean_diff(dfashw['AshVolW'], dfashs['AshVolS'])\n",
    "#calc CI of diff"
   ]
  },
  {
   "cell_type": "code",
   "execution_count": 31,
   "metadata": {},
   "outputs": [
    {
     "name": "stdout",
     "output_type": "stream",
     "text": [
      "Test statistic: 1.8648266300511693\n",
      "p-value: 0.06541339407702801\n"
     ]
    }
   ],
   "source": [
    "from scipy import stats\n",
    "\n",
    "t_val, p_val = stats.ttest_ind(dfashw['AshVolW'],\n",
    "                               dfashs['AshVolS'], equal_var=False)\n",
    "\n",
    "print(\"Test statistic:\", t_val)\n",
    "print(\"p-value:\", p_val)\n",
    "#calc t and p stat"
   ]
  },
  {
   "cell_type": "code",
   "execution_count": null,
   "metadata": {},
   "outputs": [],
   "source": []
  },
  {
   "cell_type": "code",
   "execution_count": null,
   "metadata": {},
   "outputs": [],
   "source": []
  },
  {
   "cell_type": "code",
   "execution_count": null,
   "metadata": {},
   "outputs": [],
   "source": []
  }
 ],
 "metadata": {
  "kernelspec": {
   "display_name": "Python 3",
   "language": "python",
   "name": "python3"
  },
  "language_info": {
   "codemirror_mode": {
    "name": "ipython",
    "version": 3
   },
   "file_extension": ".py",
   "mimetype": "text/x-python",
   "name": "python",
   "nbconvert_exporter": "python",
   "pygments_lexer": "ipython3",
   "version": "3.8.3"
  }
 },
 "nbformat": 4,
 "nbformat_minor": 4
}
